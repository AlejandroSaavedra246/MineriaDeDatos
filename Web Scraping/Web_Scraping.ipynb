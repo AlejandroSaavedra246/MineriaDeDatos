{
  "nbformat": 4,
  "nbformat_minor": 0,
  "metadata": {
    "colab": {
      "provenance": []
    },
    "kernelspec": {
      "name": "python3",
      "display_name": "Python 3"
    },
    "language_info": {
      "name": "python"
    }
  },
  "cells": [
    {
      "cell_type": "markdown",
      "source": [
        "Introduccion:\n",
        "Se hizo uso de web scraping para la extraccion de informacion en este caso del sitio web: \"https://www.datosmundial.com/america/mexico/crecimiento-poblacional.php\", esto fue realizado con una libreria llamada BeautifulSoup la cual sirve para extraer información de contenido en formato HTML o XML en python.\n"
      ],
      "metadata": {
        "id": "YrXAMaICSiqM"
      }
    },
    {
      "cell_type": "code",
      "source": [
        "import requests\n",
        "from bs4 import BeautifulSoup\n",
        "\n",
        "url = 'https://www.datosmundial.com/america/mexico/crecimiento-poblacional.php'\n",
        "\n",
        "response = requests.get(url)\n",
        "soup = BeautifulSoup(response.text, 'html.parser')\n",
        "\n",
        "tabla = soup.find('table', class_='std100')\n",
        "\n",
        "filas = tabla.find_all('tr')[1:]\n",
        "\n",
        "for fila in filas:\n",
        "    datos = fila.find_all('td')\n",
        "    año = datos[0].get_text()\n",
        "    Poblacion = datos[1].get_text()\n",
        "    Cambio = datos[2].get_text()\n",
        "    natalidad = datos[3].get_text()\n",
        "    TasaM = datos[4].get_text()\n",
        "    print(f'Año: {año}, Población: {Poblacion} , Cambio {Cambio}, Tasa de natalidad {natalidad}, Tasa de muerte {TasaM} ' )"
      ],
      "metadata": {
        "colab": {
          "base_uri": "https://localhost:8080/"
        },
        "id": "aY-CRJIlfWBC",
        "outputId": "d411e4f8-e878-4af9-aa6f-4d3d1c2df1b2"
      },
      "execution_count": 1,
      "outputs": [
        {
          "output_type": "stream",
          "name": "stdout",
          "text": [
            "Año: 1961, Población: 38,97 M , Cambio 3,16 %, Tasa de natalidad 44,9 ‰, Tasa de muerte 11,9 ‰ \n",
            "Año: 1962, Población: 40,20 M , Cambio 3,15 %, Tasa de natalidad 44,7 ‰, Tasa de muerte 11,6 ‰ \n",
            "Año: 1963, Población: 41,46 M , Cambio 3,15 %, Tasa de natalidad 44,5 ‰, Tasa de muerte 11,3 ‰ \n",
            "Año: 1964, Población: 42,77 M , Cambio 3,16 %, Tasa de natalidad 44,4 ‰, Tasa de muerte 11,1 ‰ \n",
            "Año: 1965, Población: 44,12 M , Cambio 3,16 %, Tasa de natalidad 44,2 ‰, Tasa de muerte 10,9 ‰ \n",
            "Año: 1966, Población: 45,52 M , Cambio 3,16 %, Tasa de natalidad 44,1 ‰, Tasa de muerte 10,7 ‰ \n",
            "Año: 1967, Población: 46,96 M , Cambio 3,16 %, Tasa de natalidad 43,9 ‰, Tasa de muerte 10,5 ‰ \n",
            "Año: 1968, Población: 48,43 M , Cambio 3,14 %, Tasa de natalidad 43,7 ‰, Tasa de muerte 10,3 ‰ \n",
            "Año: 1969, Población: 49,95 M , Cambio 3,12 %, Tasa de natalidad 43,4 ‰, Tasa de muerte 10,1 ‰ \n",
            "Año: 1970, Población: 51,49 M , Cambio 3,10 %, Tasa de natalidad 43,0 ‰, Tasa de muerte 9,8 ‰ \n",
            "Año: 1971, Población: 53,08 M , Cambio 3,07 %, Tasa de natalidad 42,5 ‰, Tasa de muerte 9,5 ‰ \n",
            "Año: 1972, Población: 54,69 M , Cambio 3,04 %, Tasa de natalidad 41,9 ‰, Tasa de muerte 9,2 ‰ \n",
            "Año: 1973, Población: 56,32 M , Cambio 2,99 %, Tasa de natalidad 41,2 ‰, Tasa de muerte 8,9 ‰ \n",
            "Año: 1974, Población: 57,97 M , Cambio 2,92 %, Tasa de natalidad 40,4 ‰, Tasa de muerte 8,6 ‰ \n",
            "Año: 1975, Población: 59,61 M , Cambio 2,83 %, Tasa de natalidad 39,5 ‰, Tasa de muerte 8,3 ‰ \n",
            "Año: 1976, Población: 61,24 M , Cambio 2,74 %, Tasa de natalidad 38,6 ‰, Tasa de muerte 8,0 ‰ \n",
            "Año: 1977, Población: 62,87 M , Cambio 2,66 %, Tasa de natalidad 37,6 ‰, Tasa de muerte 7,7 ‰ \n",
            "Año: 1978, Población: 64,49 M , Cambio 2,58 %, Tasa de natalidad 36,6 ‰, Tasa de muerte 7,4 ‰ \n",
            "Año: 1979, Población: 66,12 M , Cambio 2,53 %, Tasa de natalidad 35,7 ‰, Tasa de muerte 7,1 ‰ \n",
            "Año: 1980, Población: 67,76 M , Cambio 2,48 %, Tasa de natalidad 34,8 ‰, Tasa de muerte 6,9 ‰ \n",
            "Año: 1981, Población: 69,41 M , Cambio 2,43 %, Tasa de natalidad 34,0 ‰, Tasa de muerte 6,7 ‰ \n",
            "Año: 1982, Población: 71,06 M , Cambio 2,38 %, Tasa de natalidad 33,3 ‰, Tasa de muerte 6,5 ‰ \n",
            "Año: 1983, Población: 72,71 M , Cambio 2,32 %, Tasa de natalidad 32,6 ‰, Tasa de muerte 6,3 ‰ \n",
            "Año: 1984, Población: 74,35 M , Cambio 2,26 %, Tasa de natalidad 32,0 ‰, Tasa de muerte 6,2 ‰ \n",
            "Año: 1985, Población: 75,98 M , Cambio 2,19 %, Tasa de natalidad 31,4 ‰, Tasa de muerte 6,0 ‰ \n",
            "Año: 1986, Población: 77,60 M , Cambio 2,13 %, Tasa de natalidad 30,9 ‰, Tasa de muerte 5,9 ‰ \n",
            "Año: 1987, Población: 79,20 M , Cambio 2,06 %, Tasa de natalidad 30,4 ‰, Tasa de muerte 5,8 ‰ \n",
            "Año: 1988, Población: 80,79 M , Cambio 2,01 %, Tasa de natalidad 29,9 ‰, Tasa de muerte 5,7 ‰ \n",
            "Año: 1989, Población: 82,37 M , Cambio 1,96 %, Tasa de natalidad 29,4 ‰, Tasa de muerte 5,6 ‰ \n",
            "Año: 1990, Población: 83,94 M , Cambio 1,91 %, Tasa de natalidad 28,8 ‰, Tasa de muerte 5,4 ‰ \n",
            "Año: 1991, Población: 85,51 M , Cambio 1,87 %, Tasa de natalidad 28,2 ‰, Tasa de muerte 5,3 ‰ \n",
            "Año: 1992, Población: 87,08 M , Cambio 1,83 %, Tasa de natalidad 27,7 ‰, Tasa de muerte 5,3 ‰ \n",
            "Año: 1993, Población: 88,63 M , Cambio 1,78 %, Tasa de natalidad 27,1 ‰, Tasa de muerte 5,2 ‰ \n",
            "Año: 1994, Población: 90,16 M , Cambio 1,73 %, Tasa de natalidad 26,6 ‰, Tasa de muerte 5,1 ‰ \n",
            "Año: 1995, Población: 91,66 M , Cambio 1,67 %, Tasa de natalidad 26,1 ‰, Tasa de muerte 5,0 ‰ \n",
            "Año: 1996, Población: 93,15 M , Cambio 1,62 %, Tasa de natalidad 25,6 ‰, Tasa de muerte 5,0 ‰ \n",
            "Año: 1997, Población: 94,61 M , Cambio 1,57 %, Tasa de natalidad 25,1 ‰, Tasa de muerte 4,9 ‰ \n",
            "Año: 1998, Población: 96,06 M , Cambio 1,53 %, Tasa de natalidad 24,7 ‰, Tasa de muerte 4,8 ‰ \n",
            "Año: 1999, Población: 97,48 M , Cambio 1,49 %, Tasa de natalidad 24,3 ‰, Tasa de muerte 4,8 ‰ \n",
            "Año: 2000, Población: 98,90 M , Cambio 1,45 %, Tasa de natalidad 23,9 ‰, Tasa de muerte 4,7 ‰ \n",
            "Año: 2001, Población: 100,30 M , Cambio 1,41 %, Tasa de natalidad 23,4 ‰, Tasa de muerte 4,7 ‰ \n",
            "Año: 2002, Población: 101,68 M , Cambio 1,38 %, Tasa de natalidad 23,0 ‰, Tasa de muerte 4,7 ‰ \n",
            "Año: 2003, Población: 103,08 M , Cambio 1,37 %, Tasa de natalidad 22,6 ‰, Tasa de muerte 4,7 ‰ \n",
            "Año: 2004, Población: 104,51 M , Cambio 1,39 %, Tasa de natalidad 22,2 ‰, Tasa de muerte 4,7 ‰ \n",
            "Año: 2005, Población: 106,01 M , Cambio 1,43 %, Tasa de natalidad 21,7 ‰, Tasa de muerte 4,8 ‰ \n",
            "Año: 2006, Población: 107,56 M , Cambio 1,47 %, Tasa de natalidad 21,3 ‰, Tasa de muerte 4,9 ‰ \n",
            "Año: 2007, Población: 109,17 M , Cambio 1,50 %, Tasa de natalidad 21,0 ‰, Tasa de muerte 5,0 ‰ \n",
            "Año: 2008, Población: 110,82 M , Cambio 1,51 %, Tasa de natalidad 20,6 ‰, Tasa de muerte 5,1 ‰ \n",
            "Año: 2009, Población: 112,46 M , Cambio 1,49 %, Tasa de natalidad 20,3 ‰, Tasa de muerte 5,2 ‰ \n",
            "Año: 2010, Población: 114,09 M , Cambio 1,45 %, Tasa de natalidad 20,0 ‰, Tasa de muerte 5,3 ‰ \n",
            "Año: 2011, Población: 115,70 M , Cambio 1,40 %, Tasa de natalidad 19,8 ‰, Tasa de muerte 5,4 ‰ \n",
            "Año: 2012, Población: 117,27 M , Cambio 1,36 %, Tasa de natalidad 19,5 ‰, Tasa de muerte 5,5 ‰ \n",
            "Año: 2013, Población: 118,83 M , Cambio 1,32 %, Tasa de natalidad 19,2 ‰, Tasa de muerte 5,6 ‰ \n",
            "Año: 2014, Población: 120,36 M , Cambio 1,29 %, Tasa de natalidad 18,7 ‰, Tasa de muerte 5,8 ‰ \n",
            "Año: 2015, Población: 120,15 M , Cambio -0,17 %, Tasa de natalidad 18,0 ‰, Tasa de muerte 6,0 ‰ \n",
            "Año: 2016, Población: 121,52 M , Cambio 1,14 %, Tasa de natalidad 17,4 ‰, Tasa de muerte 6,3 ‰ \n",
            "Año: 2017, Población: 122,84 M , Cambio 1,09 %, Tasa de natalidad 16,9 ‰, Tasa de muerte 6,6 ‰ \n",
            "Año: 2018, Población: 124,01 M , Cambio 0,96 %, Tasa de natalidad 16,5 ‰, Tasa de muerte 6,9 ‰ \n",
            "Año: 2019, Población: 125,09 M , Cambio 0,86 %, Tasa de natalidad 15,7 ‰, Tasa de muerte 6,9 ‰ \n",
            "Año: 2020, Población: 126,00 M , Cambio 0,73 %, Tasa de natalidad 15,6 ‰, Tasa de muerte 9,3 ‰ \n",
            "Año: 2021, Población: 126,71 M , Cambio 0,56 %, Tasa de natalidad 14,9 ‰, Tasa de muerte 9,4 ‰ \n"
          ]
        }
      ]
    },
    {
      "cell_type": "markdown",
      "source": [
        "**Desarrollo y Uso**\n",
        "\n",
        "*Libreria Beautiful Soup: Es para extraer información de contenido en formato HTML o XML. Para usarla, es necesario especificar un parser, que es responsable de transformar un documento HTML o XML en un árbol complejo de objetos Python\n",
        "\n",
        "*Se usa la variable \"URL\" para poder añadir la url de la pagina en la que se trabajo\n",
        "\n",
        "*Se crea un \"response\" que usara request para obtener el url de la pagina que añadimos\n",
        "\n",
        "*El apartado de Soup lograra usar la libreria mencionada anteriormente para poder extraer la informacion HTML de sitio web\n",
        "\n",
        "*Con la variable \"tabla\" vamos a identificar si existe una etiqueta \"table\" con la clase \"std100\". Si se encuentra una coincidencia, el método \"find\" se utilizaría para buscar y obtener esa etiqueta.\n",
        "\n",
        "*En el apartado de filas se usa el \"find_all('tr')\" para encontrar todas las etiquetas (Filas) dentro de la tabla.\n",
        "\n",
        "*Despues realizamos un ciclo donde para cada fila, se utiliza el método \"find_all\" para encontrar todas las etiquetas (td) o (celdas) dentro de esa fila. Los resultados se almacenan en la variable datos.\n",
        "Para despues mostrar los valores extraídos de cada fila.\n",
        "\n"
      ],
      "metadata": {
        "id": "J1Z6FWQbf9eC"
      }
    },
    {
      "cell_type": "markdown",
      "source": [
        "**CONCLUSION**\n",
        "\n",
        "El Web Scraping es una herramienta muy util para la extraccion de datos de la web, nos ayuda a filtrar la informacion y solo mostrar lo que requerimos en ciertos casos como puede ser un tabla. De igual forma con sus diferentes ramas de extraccion como pueden ser imagenes entre otras.\n",
        "Pero un punto clave al usar esta herramienta es muy importante utilizarlo de manera responsable y respetar los términos y condiciones de los sitios web.\n"
      ],
      "metadata": {
        "id": "VW8HcFnfnTMa"
      }
    }
  ]
}